{
 "cells": [
  {
   "cell_type": "code",
   "execution_count": 11,
   "metadata": {},
   "outputs": [],
   "source": [
    "from prototree.prototree import ProtoTree\n",
    "from prototree.branch import Branch\n",
    "from prototree.leaf import Leaf\n",
    "from prototree.node import Node\n",
    "import torch\n",
    "\n",
    "import argparse\n",
    "import torch.nn as nn\n",
    "from torchvision.models import resnet50\n",
    "\n",
    "import torchvision.transforms as transforms\n",
    "import torchvision\n",
    "\n",
    "import torch.nn as nn\n",
    "import torch.optim as optim\n",
    "\n",
    "# # Define the number of classes\n",
    "# num_classes = 15  \n",
    "\n",
    "# # Define the feature extraction network\n",
    "# feature_net = resnet50(pretrained=True)\n",
    "\n",
    "# # Define the arguments\n",
    "# args = argparse.Namespace(depth=5, num_features=512, W1=10, H1=10, log_probabilities=None, disable_derivative_free_leaf_optim=False, kontschieder_normalization=False, kontschieder_train=False)\n",
    "# # Initialize the ProtoTree\n",
    "# model = ProtoTree(num_classes, feature_net, args)"
   ]
  },
  {
   "cell_type": "code",
   "execution_count": 2,
   "metadata": {},
   "outputs": [],
   "source": [
    "# Load the model state dictionary\n",
    "# model_state_dict = torch.load('/home/dhaval/prototree/runs/run_prototree/checkpoints/best_test_model/model_state.pth')  \n",
    "# model.load_state_dict(model_state_dict)\n",
    "\n",
    "# Load the optimizer state dictionary\n",
    "# optimizer_state_dict = torch.load('/home/dhaval/prototree/runs/run_prototree/checkpoints/best_test_model/optimizer_state.pth')  \n",
    "# optimizer.load_state_dict(optimizer_state_dict)\n",
    "\n",
    "# Switch to evaluation mode\n",
    "# model.eval()"
   ]
  },
  {
   "cell_type": "code",
   "execution_count": 12,
   "metadata": {},
   "outputs": [],
   "source": [
    "def get_nih(\n",
    "    augment: bool, train_dir: str, project_dir: str, test_dir: str, img_size=224\n",
    "):\n",
    "    shape = (3, img_size, img_size)\n",
    "    mean = (0.485, 0.456, 0.406)\n",
    "    std = (0.229, 0.224, 0.225)\n",
    "    normalize = transforms.Normalize(mean=mean, std=std)\n",
    "    transform_no_augment = transforms.Compose(\n",
    "        [transforms.Resize(size=(img_size, img_size)), transforms.ToTensor(), normalize]\n",
    "    )\n",
    "    if augment:\n",
    "        transform = transforms.Compose(\n",
    "            [\n",
    "                transforms.Resize(\n",
    "                    size=(img_size + 32, img_size + 32)\n",
    "                ),  # resize to 256x256\n",
    "                transforms.RandomOrder(\n",
    "                    [\n",
    "                        transforms.RandomPerspective(distortion_scale=0.5, p=0.5),\n",
    "                        transforms.ColorJitter(brightness=0.25, contrast=0.25),\n",
    "                        transforms.RandomHorizontalFlip(),\n",
    "                        transforms.RandomAffine(\n",
    "                            15, translate=(0.1, 0.1), scale=(0.9, 1.1)\n",
    "                        ),\n",
    "                    ]\n",
    "                ),\n",
    "                transforms.RandomCrop(size=(img_size, img_size)),  # crop to 224x224\n",
    "                transforms.ToTensor(),\n",
    "                normalize,\n",
    "            ]\n",
    "        )\n",
    "    else:\n",
    "        transform = transform_no_augment\n",
    "    trainset = torchvision.datasets.ImageFolder(train_dir, transform=transform)\n",
    "    projectset = torchvision.datasets.ImageFolder(\n",
    "        project_dir, transform=transform_no_augment\n",
    "    )\n",
    "    testset = torchvision.datasets.ImageFolder(test_dir, transform=transform_no_augment)\n",
    "    classes = trainset.classes\n",
    "    return trainset, projectset, testset, classes, shape\n",
    "\n"
   ]
  },
  {
   "cell_type": "code",
   "execution_count": 15,
   "metadata": {},
   "outputs": [
    {
     "name": "stdout",
     "output_type": "stream",
     "text": [
      "Num classes (k) =  3\n"
     ]
    }
   ],
   "source": [
    "if torch.cuda.is_available():\n",
    "        # device = torch.device('cuda')\n",
    "    device = torch.device('cuda:{}'.format(torch.cuda.current_device()))\n",
    "else:\n",
    "    device = torch.device('cpu')\n",
    "\n",
    "\n",
    "trainloader, projectloader, testloader, classes, num_channels = get_dataloaders(\n",
    "        batch_size=32\n",
    "    )"
   ]
  },
  {
   "cell_type": "code",
   "execution_count": 16,
   "metadata": {},
   "outputs": [],
   "source": [
    "tree = torch.load('runs/run_prototree/checkpoints/best_test_model/model.pth', map_location=device)"
   ]
  },
  {
   "cell_type": "code",
   "execution_count": 17,
   "metadata": {},
   "outputs": [],
   "source": [
    "img_size = 224\n",
    "mean = (0.485, 0.456, 0.406)\n",
    "std = (0.229, 0.224, 0.225)\n",
    "\n",
    "normalize = transforms.Normalize(mean=mean, std=std)\n",
    "\n",
    "transform_no_augment = transforms.Compose(\n",
    "        [transforms.Resize(size=(img_size, img_size)), transforms.ToTensor(), normalize]\n",
    "    )"
   ]
  },
  {
   "cell_type": "code",
   "execution_count": 18,
   "metadata": {},
   "outputs": [],
   "source": [
    "torch.cuda.empty_cache()\n",
    "\n",
    "# test_dir = \"./data/NIH_CHEST_XRAYS/dataset/test_full\"\n",
    "\n",
    "# testset = torchvision.datasets.ImageFolder(test_dir, transform=transform_no_augment)\n",
    "# testloader = torch.utils.data.DataLoader(\n",
    "#         testset, batch_size=16, shuffle=False, pin_memory=device\n",
    "#     )\n",
    "\n",
    "current = []\n",
    "predictions = []\n",
    "tree.eval()\n",
    "for i, (xs, ys) in enumerate(testloader):\n",
    "    xs, ys = xs.to(device), ys.to(device)\n",
    "\n",
    "    out, test_info = tree.forward(xs, 'distributed')\n",
    "    ys_pred = torch.argmax(out, dim=1)\n",
    "    predictions.append(ys_pred)\n",
    "    current.append(ys)\n"
   ]
  },
  {
   "cell_type": "code",
   "execution_count": 19,
   "metadata": {},
   "outputs": [],
   "source": [
    "import numpy as np\n",
    "\n",
    "concatenated_pred = torch.cat(predictions)\n",
    "concatenated_current = torch.cat(current)\n",
    "\n",
    "con_final_pred = concatenated_pred.cpu()\n",
    "con_final_current = concatenated_current.cpu()\n",
    "\n",
    "np_pred = con_final_pred.numpy()\n",
    "np_current = con_final_current.numpy()"
   ]
  },
  {
   "cell_type": "code",
   "execution_count": 20,
   "metadata": {},
   "outputs": [
    {
     "data": {
      "image/png": "[encoded data removed]",
      "text/plain": [
       "<Figure size 1000x700 with 2 Axes>"
      ]
     },
     "metadata": {},
     "output_type": "display_data"
    }
   ],
   "source": [
    "import seaborn as sns\n",
    "import matplotlib.pyplot as plt\n",
    "from sklearn.metrics import confusion_matrix\n",
    "\n",
    "classes = testset.classes\n",
    "\n",
    "cm = confusion_matrix(np_pred, np_current)\n",
    "\n",
    "# Create a heatmap\n",
    "plt.figure(figsize=(10,7))\n",
    "sns.heatmap(cm, annot=True, fmt='d', xticklabels=classes, yticklabels=classes)\n",
    "plt.xlabel('Predicted')\n",
    "plt.ylabel('Actual')\n",
    "plt.show()"
   ]
  },
  {
   "cell_type": "code",
   "execution_count": 10,
   "metadata": {},
   "outputs": [
    {
     "name": "stdout",
     "output_type": "stream",
     "text": [
      "              precision    recall  f1-score   support\n",
      "\n",
      "Cardiomegaly       0.01      0.60      0.02         5\n",
      "    Effusion       0.90      0.66      0.76      1226\n",
      "  No Finding       0.50      0.52      0.51       481\n",
      "\n",
      "    accuracy                           0.62      1712\n",
      "   macro avg       0.47      0.59      0.43      1712\n",
      "weighted avg       0.78      0.62      0.69      1712\n",
      "\n"
     ]
    }
   ],
   "source": [
    "from sklearn.metrics import confusion_matrix, classification_report\n",
    "\n",
    "report = classification_report(np_pred, np_current, target_names=classes)\n",
    "print(report)"
   ]
  }
 ],
 "metadata": {
  "kernelspec": {
   "display_name": ".venv",
   "language": "python",
   "name": "python3"
  },
  "language_info": {
   "codemirror_mode": {
    "name": "ipython",
    "version": 3
   },
   "file_extension": ".py",
   "mimetype": "text/x-python",
   "name": "python",
   "nbconvert_exporter": "python",
   "pygments_lexer": "ipython3",
   "version": "3.10.13"
  }
 },
 "nbformat": 4,
 "nbformat_minor": 2
}
