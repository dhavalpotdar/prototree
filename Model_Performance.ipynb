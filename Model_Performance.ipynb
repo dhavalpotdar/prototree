{
 "cells": [
  {
   "cell_type": "code",
   "execution_count": null,
   "metadata": {},
   "outputs": [],
   "source": [
    "from sklearn.datasets import make_classification\n",
    "from sklearn.model_selection import train_test_split\n",
    "from sklearn.linear_model import LogisticRegression\n",
    "from sklearn.ensemble import RandomForestClassifier\n",
    "from sklearn.svm import SVC\n",
    "from sklearn.metrics import precision_recall_fscore_support"
   ]
  },
  {
   "cell_type": "code",
   "execution_count": null,
   "metadata": {},
   "outputs": [],
   "source": [
    "# # Generate a synthetic dataset (replace with your real dataset)\n",
    "# X, y = make_classification(\n",
    "#     n_samples=1000, n_features=20, n_informative=2, n_redundant=10, random_state=42\n",
    "# )\n",
    "\n",
    "# # Split the dataset into training and testing sets\n",
    "# X_train, X_test, y_train, y_test = train_test_split(\n",
    "#     X, y, test_size=0.25, random_state=42\n",
    "# )\n",
    "\n",
    "# # Define the models to be evaluated\n",
    "# models = {\n",
    "#     \"Logistic Regression\": LogisticRegression(max_iter=1000, random_state=42),\n",
    "#     \"Random Forest\": RandomForestClassifier(random_state=42),\n",
    "#     \"Support Vector Machine\": SVC(random_state=42),\n",
    "# }"
   ]
  },
  {
   "cell_type": "code",
   "execution_count": null,
   "metadata": {},
   "outputs": [],
   "source": [
    "# Train each model, make predictions, and calculate metrics\n",
    "for name, model in models.items():\n",
    "    model.fit(X_train, y_train)  # Train model\n",
    "    y_pred = model.predict(X_test)  # Predict on test data\n",
    "\n",
    "    # Calculate precision, recall, and F1 score\n",
    "    precision, recall, f1, _ = precision_recall_fscore_support(\n",
    "        y_test, y_pred, average=\"binary\"\n",
    "    )\n",
    "\n",
    "    # Print the results\n",
    "    print(f\"{name}:\")\n",
    "    print(f\" Precision: {precision:.4f}\")\n",
    "    print(f\" Recall: {recall:.4f}\")\n",
    "    print(f\" F1 Score: {f1:.4f}\\n\")"
   ]
  },
  {
   "cell_type": "code",
   "execution_count": null,
   "metadata": {},
   "outputs": [],
   "source": []
  }
 ],
 "metadata": {
  "language_info": {
   "name": "python"
  }
 },
 "nbformat": 4,
 "nbformat_minor": 2
}
