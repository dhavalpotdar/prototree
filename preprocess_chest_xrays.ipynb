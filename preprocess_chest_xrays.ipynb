{
 "cells": [
  {
   "cell_type": "code",
   "execution_count": 17,
   "metadata": {},
   "outputs": [],
   "source": [
    "import numpy as np\n",
    "import pandas as pd\n",
    "\n",
    "import shutil\n",
    "import os\n",
    "\n",
    "from tqdm import tqdm"
   ]
  },
  {
   "cell_type": "code",
   "execution_count": 2,
   "metadata": {},
   "outputs": [],
   "source": [
    "data_entry = pd.read_csv(\"./data/NIH_CHEST_XRAYS/Data_Entry_2017.csv\")\n",
    "test_list = pd.read_csv(\n",
    "    \"./data/NIH_CHEST_XRAYS/test_list.txt\",\n",
    "    delimiter=\"\\t\",\n",
    "    header=None,\n",
    "    names=[\"filename\"],\n",
    "    index_col=None,\n",
    ")\n",
    "train_val_list = pd.read_csv(\n",
    "    \"./data/NIH_CHEST_XRAYS/train_val_list.txt\",\n",
    "    delimiter=\"\\t\",\n",
    "    header=None,\n",
    "    names=[\"filename\"],\n",
    "    index_col=None,\n",
    ")"
   ]
  },
  {
   "cell_type": "code",
   "execution_count": 3,
   "metadata": {},
   "outputs": [],
   "source": [
    "data_entry[\"Multi Class\"] = data_entry[\"Finding Labels\"].str.contains(\"\\|\")"
   ]
  },
  {
   "cell_type": "code",
   "execution_count": 4,
   "metadata": {},
   "outputs": [
    {
     "data": {
      "text/plain": [
       "Multi Class\n",
       "False    91324\n",
       "True     20796\n",
       "Name: count, dtype: int64"
      ]
     },
     "execution_count": 4,
     "metadata": {},
     "output_type": "execute_result"
    }
   ],
   "source": [
    "data_entry[\"Multi Class\"].value_counts()"
   ]
  },
  {
   "cell_type": "code",
   "execution_count": 5,
   "metadata": {},
   "outputs": [],
   "source": [
    "data_entry_single_disease = data_entry.query(\"`Multi Class` == False\")"
   ]
  },
  {
   "cell_type": "code",
   "execution_count": 6,
   "metadata": {},
   "outputs": [
    {
     "data": {
      "text/plain": [
       "(91324, 13)"
      ]
     },
     "execution_count": 6,
     "metadata": {},
     "output_type": "execute_result"
    }
   ],
   "source": [
    "data_entry_single_disease.shape"
   ]
  },
  {
   "cell_type": "code",
   "execution_count": 7,
   "metadata": {},
   "outputs": [],
   "source": [
    "data_entry_single_disease.to_csv(\n",
    "    \"./data/NIH_CHEST_XRAYS/Data_Entry_2017_Single_Class.csv\", index=None\n",
    ")"
   ]
  },
  {
   "cell_type": "code",
   "execution_count": 23,
   "metadata": {},
   "outputs": [
    {
     "name": "stdout",
     "output_type": "stream",
     "text": [
      "\n",
      "Copying for class Cardiomegaly...\n"
     ]
    },
    {
     "name": "stderr",
     "output_type": "stream",
     "text": [
      "Images: 100%|██████████| 1093/1093 [00:01<00:00, 1056.45it/s]\n"
     ]
    },
    {
     "name": "stdout",
     "output_type": "stream",
     "text": [
      "\n",
      "Copying for class No Finding...\n"
     ]
    },
    {
     "name": "stderr",
     "output_type": "stream",
     "text": [
      "Images: 100%|██████████| 60361/60361 [00:56<00:00, 1069.43it/s] \n"
     ]
    },
    {
     "name": "stdout",
     "output_type": "stream",
     "text": [
      "\n",
      "Copying for class Hernia...\n"
     ]
    },
    {
     "name": "stderr",
     "output_type": "stream",
     "text": [
      "Images: 100%|██████████| 110/110 [00:00<00:00, 797.08it/s]\n"
     ]
    },
    {
     "name": "stdout",
     "output_type": "stream",
     "text": [
      "\n",
      "Copying for class Infiltration...\n"
     ]
    },
    {
     "name": "stderr",
     "output_type": "stream",
     "text": [
      "Images: 100%|██████████| 9547/9547 [00:08<00:00, 1146.09it/s]\n"
     ]
    },
    {
     "name": "stdout",
     "output_type": "stream",
     "text": [
      "\n",
      "Copying for class Nodule...\n"
     ]
    },
    {
     "name": "stderr",
     "output_type": "stream",
     "text": [
      "Images: 100%|██████████| 2705/2705 [00:02<00:00, 986.86it/s] \n"
     ]
    },
    {
     "name": "stdout",
     "output_type": "stream",
     "text": [
      "\n",
      "Copying for class Emphysema...\n"
     ]
    },
    {
     "name": "stderr",
     "output_type": "stream",
     "text": [
      "Images: 100%|██████████| 892/892 [00:00<00:00, 957.30it/s]\n"
     ]
    },
    {
     "name": "stdout",
     "output_type": "stream",
     "text": [
      "\n",
      "Copying for class Effusion...\n"
     ]
    },
    {
     "name": "stderr",
     "output_type": "stream",
     "text": [
      "Images: 100%|██████████| 3955/3955 [00:03<00:00, 1060.85it/s]\n"
     ]
    },
    {
     "name": "stdout",
     "output_type": "stream",
     "text": [
      "\n",
      "Copying for class Atelectasis...\n"
     ]
    },
    {
     "name": "stderr",
     "output_type": "stream",
     "text": [
      "Images: 100%|██████████| 4215/4215 [00:04<00:00, 1042.86it/s]\n"
     ]
    },
    {
     "name": "stdout",
     "output_type": "stream",
     "text": [
      "\n",
      "Copying for class Pleural_Thickening...\n"
     ]
    },
    {
     "name": "stderr",
     "output_type": "stream",
     "text": [
      "Images: 100%|██████████| 1126/1126 [00:01<00:00, 1059.25it/s]\n"
     ]
    },
    {
     "name": "stdout",
     "output_type": "stream",
     "text": [
      "\n",
      "Copying for class Pneumothorax...\n"
     ]
    },
    {
     "name": "stderr",
     "output_type": "stream",
     "text": [
      "Images: 100%|██████████| 2194/2194 [00:01<00:00, 1198.50it/s]\n"
     ]
    },
    {
     "name": "stdout",
     "output_type": "stream",
     "text": [
      "\n",
      "Copying for class Mass...\n"
     ]
    },
    {
     "name": "stderr",
     "output_type": "stream",
     "text": [
      "Images: 100%|██████████| 2139/2139 [00:02<00:00, 1051.84it/s]\n"
     ]
    },
    {
     "name": "stdout",
     "output_type": "stream",
     "text": [
      "\n",
      "Copying for class Fibrosis...\n"
     ]
    },
    {
     "name": "stderr",
     "output_type": "stream",
     "text": [
      "Images: 100%|██████████| 727/727 [00:00<00:00, 885.98it/s]\n"
     ]
    },
    {
     "name": "stdout",
     "output_type": "stream",
     "text": [
      "\n",
      "Copying for class Consolidation...\n"
     ]
    },
    {
     "name": "stderr",
     "output_type": "stream",
     "text": [
      "Images: 100%|██████████| 1310/1310 [00:01<00:00, 1052.40it/s]\n"
     ]
    },
    {
     "name": "stdout",
     "output_type": "stream",
     "text": [
      "\n",
      "Copying for class Edema...\n"
     ]
    },
    {
     "name": "stderr",
     "output_type": "stream",
     "text": [
      "Images: 100%|██████████| 628/628 [00:00<00:00, 1092.09it/s]\n"
     ]
    },
    {
     "name": "stdout",
     "output_type": "stream",
     "text": [
      "\n",
      "Copying for class Pneumonia...\n"
     ]
    },
    {
     "name": "stderr",
     "output_type": "stream",
     "text": [
      "Images: 100%|██████████| 322/322 [00:00<00:00, 1103.60it/s]\n"
     ]
    }
   ],
   "source": [
    "IMAGES_DIR = r\"/Users/dhavalpotdar/Workarea/IDS705/prototree/ProtoTree/data/NIH_CHEST_XRAYS/images\"\n",
    "DATASET_DIR = r\"/Users/dhavalpotdar/Workarea/IDS705/prototree/ProtoTree/data/NIH_CHEST_XRAYS/dataset\"\n",
    "TEST_CROP = os.path.join(DATASET_DIR, \"test_crop\")\n",
    "TEST_FULL = os.path.join(DATASET_DIR, \"test_full\")\n",
    "TRAIN_CORNERS = os.path.join(DATASET_DIR, \"train_corners\")\n",
    "TRAIN_CROP = os.path.join(DATASET_DIR, \"train_crop\")\n",
    "\n",
    "train_set = set(train_val_list[\"filename\"])\n",
    "test_set = set(test_list[\"filename\"])\n",
    "\n",
    "not_found_images = []\n",
    "unique_labels = data_entry_single_disease[\"Finding Labels\"].unique()\n",
    "for label in unique_labels:\n",
    "    print(f\"\\nCopying for class {label}...\")\n",
    "    df_label = data_entry_single_disease.query(\"`Finding Labels` == @label\")\n",
    "\n",
    "    for idx, row in tqdm(df_label.iterrows(), total=df_label.shape[0], desc=\"Images\"):\n",
    "        image_name = row[\"Image Index\"]\n",
    "        source_image_path = os.path.join(IMAGES_DIR, image_name)\n",
    "\n",
    "        if not os.path.exists(source_image_path):\n",
    "            not_found_images.append(source_image_path)\n",
    "            continue\n",
    "\n",
    "        if image_name in train_set:\n",
    "\n",
    "            # construct paths for train set\n",
    "            destination_crop = os.path.join(TRAIN_CROP, label, image_name)\n",
    "            destination_corners = os.path.join(TRAIN_CORNERS, label, image_name)\n",
    "\n",
    "            # copy\n",
    "            shutil.copy(source_image_path, destination_crop)\n",
    "            shutil.copy(source_image_path, destination_corners)\n",
    "            pass\n",
    "\n",
    "        elif image_name in test_set:\n",
    "\n",
    "            # construct paths for test set\n",
    "            destination_crop = os.path.join(TEST_CROP, label, image_name)\n",
    "            destination_corners = os.path.join(TEST_FULL, label, image_name)\n",
    "\n",
    "            # copy\n",
    "            shutil.copy(source_image_path, destination_crop)\n",
    "            shutil.copy(source_image_path, destination_corners)\n",
    "            pass\n",
    "\n",
    "        else:\n",
    "            raise"
   ]
  },
  {
   "cell_type": "code",
   "execution_count": 58,
   "metadata": {},
   "outputs": [
    {
     "data": {
      "text/html": [
       "<div>\n",
       "<style scoped>\n",
       "    .dataframe tbody tr th:only-of-type {\n",
       "        vertical-align: middle;\n",
       "    }\n",
       "\n",
       "    .dataframe tbody tr th {\n",
       "        vertical-align: top;\n",
       "    }\n",
       "\n",
       "    .dataframe thead th {\n",
       "        text-align: right;\n",
       "    }\n",
       "</style>\n",
       "<table border=\"1\" class=\"dataframe\">\n",
       "  <thead>\n",
       "    <tr style=\"text-align: right;\">\n",
       "      <th></th>\n",
       "      <th>Image Index</th>\n",
       "      <th>Finding Labels</th>\n",
       "      <th>Follow-up #</th>\n",
       "      <th>Patient ID</th>\n",
       "      <th>Patient Age</th>\n",
       "      <th>Patient Gender</th>\n",
       "      <th>View Position</th>\n",
       "      <th>OriginalImage[Width</th>\n",
       "      <th>Height]</th>\n",
       "      <th>OriginalImagePixelSpacing[x</th>\n",
       "      <th>y]</th>\n",
       "      <th>Unnamed: 11</th>\n",
       "      <th>Multi Class</th>\n",
       "    </tr>\n",
       "  </thead>\n",
       "  <tbody>\n",
       "    <tr>\n",
       "      <th>0</th>\n",
       "      <td>00000001_000.png</td>\n",
       "      <td>Cardiomegaly</td>\n",
       "      <td>0</td>\n",
       "      <td>1</td>\n",
       "      <td>58</td>\n",
       "      <td>M</td>\n",
       "      <td>PA</td>\n",
       "      <td>2682</td>\n",
       "      <td>2749</td>\n",
       "      <td>0.143</td>\n",
       "      <td>0.143</td>\n",
       "      <td>NaN</td>\n",
       "      <td>False</td>\n",
       "    </tr>\n",
       "    <tr>\n",
       "      <th>3</th>\n",
       "      <td>00000002_000.png</td>\n",
       "      <td>No Finding</td>\n",
       "      <td>0</td>\n",
       "      <td>2</td>\n",
       "      <td>81</td>\n",
       "      <td>M</td>\n",
       "      <td>PA</td>\n",
       "      <td>2500</td>\n",
       "      <td>2048</td>\n",
       "      <td>0.171</td>\n",
       "      <td>0.171</td>\n",
       "      <td>NaN</td>\n",
       "      <td>False</td>\n",
       "    </tr>\n",
       "    <tr>\n",
       "      <th>4</th>\n",
       "      <td>00000003_000.png</td>\n",
       "      <td>Hernia</td>\n",
       "      <td>0</td>\n",
       "      <td>3</td>\n",
       "      <td>81</td>\n",
       "      <td>F</td>\n",
       "      <td>PA</td>\n",
       "      <td>2582</td>\n",
       "      <td>2991</td>\n",
       "      <td>0.143</td>\n",
       "      <td>0.143</td>\n",
       "      <td>NaN</td>\n",
       "      <td>False</td>\n",
       "    </tr>\n",
       "    <tr>\n",
       "      <th>5</th>\n",
       "      <td>00000003_001.png</td>\n",
       "      <td>Hernia</td>\n",
       "      <td>1</td>\n",
       "      <td>3</td>\n",
       "      <td>74</td>\n",
       "      <td>F</td>\n",
       "      <td>PA</td>\n",
       "      <td>2500</td>\n",
       "      <td>2048</td>\n",
       "      <td>0.168</td>\n",
       "      <td>0.168</td>\n",
       "      <td>NaN</td>\n",
       "      <td>False</td>\n",
       "    </tr>\n",
       "    <tr>\n",
       "      <th>6</th>\n",
       "      <td>00000003_002.png</td>\n",
       "      <td>Hernia</td>\n",
       "      <td>2</td>\n",
       "      <td>3</td>\n",
       "      <td>75</td>\n",
       "      <td>F</td>\n",
       "      <td>PA</td>\n",
       "      <td>2048</td>\n",
       "      <td>2500</td>\n",
       "      <td>0.168</td>\n",
       "      <td>0.168</td>\n",
       "      <td>NaN</td>\n",
       "      <td>False</td>\n",
       "    </tr>\n",
       "  </tbody>\n",
       "</table>\n",
       "</div>"
      ],
      "text/plain": [
       "        Image Index Finding Labels  Follow-up #  Patient ID  Patient Age  \\\n",
       "0  00000001_000.png   Cardiomegaly            0           1           58   \n",
       "3  00000002_000.png     No Finding            0           2           81   \n",
       "4  00000003_000.png         Hernia            0           3           81   \n",
       "5  00000003_001.png         Hernia            1           3           74   \n",
       "6  00000003_002.png         Hernia            2           3           75   \n",
       "\n",
       "  Patient Gender View Position  OriginalImage[Width  Height]  \\\n",
       "0              M            PA                 2682     2749   \n",
       "3              M            PA                 2500     2048   \n",
       "4              F            PA                 2582     2991   \n",
       "5              F            PA                 2500     2048   \n",
       "6              F            PA                 2048     2500   \n",
       "\n",
       "   OriginalImagePixelSpacing[x     y]  Unnamed: 11  Multi Class  \n",
       "0                        0.143  0.143          NaN        False  \n",
       "3                        0.171  0.171          NaN        False  \n",
       "4                        0.143  0.143          NaN        False  \n",
       "5                        0.168  0.168          NaN        False  \n",
       "6                        0.168  0.168          NaN        False  "
      ]
     },
     "execution_count": 58,
     "metadata": {},
     "output_type": "execute_result"
    }
   ],
   "source": [
    "data_entry_single_disease.head()"
   ]
  },
  {
   "cell_type": "code",
   "execution_count": 1,
   "metadata": {},
   "outputs": [
    {
     "ename": "NameError",
     "evalue": "name 'not_found_images' is not defined",
     "output_type": "error",
     "traceback": [
      "\u001b[0;31m---------------------------------------------------------------------------\u001b[0m",
      "\u001b[0;31mNameError\u001b[0m                                 Traceback (most recent call last)",
      "Cell \u001b[0;32mIn[1], line 1\u001b[0m\n\u001b[0;32m----> 1\u001b[0m \u001b[38;5;28mlen\u001b[39m(\u001b[43mnot_found_images\u001b[49m)\n",
      "\u001b[0;31mNameError\u001b[0m: name 'not_found_images' is not defined"
     ]
    }
   ],
   "source": [
    "len(not_found_images)"
   ]
  }
 ],
 "metadata": {
  "kernelspec": {
   "display_name": "prototree",
   "language": "python",
   "name": "python3"
  },
  "language_info": {
   "codemirror_mode": {
    "name": "ipython",
    "version": 3
   },
   "file_extension": ".py",
   "mimetype": "text/x-python",
   "name": "python",
   "nbconvert_exporter": "python",
   "pygments_lexer": "ipython3",
   "version": "3.10.0"
  }
 },
 "nbformat": 4,
 "nbformat_minor": 2
}
